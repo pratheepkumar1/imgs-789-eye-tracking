{
 "cells": [
  {
   "cell_type": "code",
   "execution_count": 2,
   "metadata": {},
   "outputs": [],
   "source": [
    "import numpy as np\n",
    "import pandas as pd\n",
    "import matplotlib.pyplot as plt"
   ]
  },
  {
   "cell_type": "markdown",
   "metadata": {},
   "source": [
    "#### Reading the file and sorting it down based on timestamp"
   ]
  },
  {
   "cell_type": "code",
   "execution_count": 3,
   "metadata": {},
   "outputs": [],
   "source": [
    "gaze_data = pd.read_csv('gaze_positions.csv')\n",
    "gaze_data.sort_values([\"gaze_timestamp\"], \n",
    "                    ascending=[True], \n",
    "                    inplace=True)"
   ]
  },
  {
   "cell_type": "markdown",
   "metadata": {},
   "source": [
    "#### Get 3 point coordinates\n",
    "This is reusable function to get any 3point coordinates from the file"
   ]
  },
  {
   "cell_type": "code",
   "execution_count": 30,
   "metadata": {},
   "outputs": [],
   "source": [
    "def get_3d_coordinates(row,coordinates_name):\n",
    "    return [row['{}_x'.format(coordinates_name)],row['{}_y'.format(coordinates_name)],row['{}_z'.format(coordinates_name)]]"
   ]
  },
  {
   "cell_type": "markdown",
   "metadata": {},
   "source": [
    "#### Get spherical coordinates\n",
    "This is a reusable function to convert any cartesan coordinates to spherical coordinates"
   ]
  },
  {
   "cell_type": "code",
   "execution_count": 29,
   "metadata": {},
   "outputs": [],
   "source": [
    "def get_spherical_coordinates(row,coordinates_name):\n",
    "    coordinates = get_3d_coordinates(row,coordinates_name)\n",
    "    az = np.rad2deg(np.arctan(np.divide(coordinates[0],coordinates[2])))\n",
    "    el = np.rad2deg(np.arctan(np.divide(coordinates[1],coordinates[2])))\n",
    "    return [az,el]"
   ]
  },
  {
   "cell_type": "markdown",
   "metadata": {},
   "source": [
    "#### Get gaze point in world camera\n",
    "This is done by converting the 3d gaze point from cartesan to spherical coordinates and then adding it as a new column in the csv file"
   ]
  },
  {
   "cell_type": "code",
   "execution_count": 37,
   "metadata": {},
   "outputs": [
    {
     "data": {
      "text/plain": [
       "['gaze_timestamp',\n",
       " 'world_index',\n",
       " 'confidence',\n",
       " 'norm_pos_x',\n",
       " 'norm_pos_y',\n",
       " 'base_data',\n",
       " 'gaze_point_3d_x',\n",
       " 'gaze_point_3d_y',\n",
       " 'gaze_point_3d_z',\n",
       " 'eye_center0_3d_x',\n",
       " 'eye_center0_3d_y',\n",
       " 'eye_center0_3d_z',\n",
       " 'gaze_normal0_x',\n",
       " 'gaze_normal0_y',\n",
       " 'gaze_normal0_z',\n",
       " 'eye_center1_3d_x',\n",
       " 'eye_center1_3d_y',\n",
       " 'eye_center1_3d_z',\n",
       " 'gaze_normal1_x',\n",
       " 'gaze_normal1_y',\n",
       " 'gaze_normal1_z',\n",
       " 'gazeInWorldCam_az',\n",
       " 'gazeInWorldCam_el']"
      ]
     },
     "execution_count": 37,
     "metadata": {},
     "output_type": "execute_result"
    }
   ],
   "source": [
    "azEl = gaze_data.apply(lambda arbitraryRowName: get_spherical_coordinates(arbitraryRowName,'gaze_point_3d'),axis=1)\n",
    "gaze_data['gazeInWorldCam_az'],gaze_data['gazeInWorldCam_el'] = zip(*azEl)\n",
    "list(gaze_data)"
   ]
  },
  {
   "cell_type": "code",
   "execution_count": null,
   "metadata": {},
   "outputs": [],
   "source": [
    "\n",
    "\n"
   ]
  }
 ],
 "metadata": {
  "interpreter": {
   "hash": "edc0577a446c8e32673fe9979fa9c04ff8e6319f0bd441dbfe5b669cf564e608"
  },
  "kernelspec": {
   "display_name": "Python 3.9.7 64-bit ('base': conda)",
   "language": "python",
   "name": "python3"
  },
  "language_info": {
   "codemirror_mode": {
    "name": "ipython",
    "version": 3
   },
   "file_extension": ".py",
   "mimetype": "text/x-python",
   "name": "python",
   "nbconvert_exporter": "python",
   "pygments_lexer": "ipython3",
   "version": "3.9.7"
  },
  "orig_nbformat": 4
 },
 "nbformat": 4,
 "nbformat_minor": 2
}
